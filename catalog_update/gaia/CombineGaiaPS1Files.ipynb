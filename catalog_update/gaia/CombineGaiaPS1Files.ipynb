{
 "cells": [
  {
   "cell_type": "code",
   "execution_count": 1,
   "metadata": {},
   "outputs": [],
   "source": [
    "import numpy as np\n",
    "import pandas as pd\n",
    "from astropy.io import fits\n",
    "import glob\n",
    "\n",
    "import matplotlib.pyplot as plt\n",
    "%matplotlib notebook"
   ]
  },
  {
   "cell_type": "code",
   "execution_count": 2,
   "metadata": {},
   "outputs": [],
   "source": [
    "gaia_files = glob.glob(\"PS1_gaia*fits.gz\")"
   ]
  },
  {
   "cell_type": "code",
   "execution_count": 6,
   "metadata": {},
   "outputs": [
    {
     "name": "stdout",
     "output_type": "stream",
     "text": [
      "0 PS1_gaia_60-result.fits.gz 6223570 0.13324277165826348\n",
      "1 PS1_gaia_90-result.fits.gz 592863 0.2712523637122304\n",
      "2 PS1_gaia_neg20-result.fits.gz 7796615 0.06690960190845871\n",
      "3 PS1_gaia_10-result.fits.gz 6276114 0.09641937425792343\n",
      "4 PS1_gaia_70-result.fits.gz 3828344 0.13570998249009342\n",
      "5 PS1_gaia_80-result.fits.gz 1986738 0.20627743374059895\n",
      "6 PS1_gaia_neg30-result.fits.gz 1942369 0.08315334824072679\n",
      "7 PS1_gaia_20-result.fits.gz 6628399 0.09248199304836233\n",
      "8 PS1_gaia_neg0-result.fits.gz 6123993 0.09127268624034811\n",
      "9 PS1_gaia_50-result.fits.gz 7037443 0.14230677767932215\n",
      "10 PS1_gaia_neg10-result.fits.gz 7036895 0.07456992897577198\n",
      "11 PS1_gaia_40-result.fits.gz 7144109 0.12532270454900443\n",
      "12 PS1_gaia_30-result.fits.gz 6812453 0.10590516670606495\n"
     ]
    }
   ],
   "source": [
    "for file_num, gf in enumerate(gaia_files):\n",
    "    gdat = fits.getdata(gf)\n",
    "    parallax_stars = np.where( (gdat['parallax_over_error'] >= 8) ) # 5*1.6\n",
    "    tmp_df = pd.DataFrame(gdat['objid'][parallax_stars], columns=['objid'])\n",
    "    big_df = tmp_df.copy()\n",
    "    big_df['pm_over_error'] = gdat['pm'][parallax_stars]/gdat['pm_unc'][parallax_stars]\n",
    "    big_df['parallax_over_error'] = gdat['parallax_over_error'][parallax_stars]\n",
    "    \n",
    "    print(file_num, gf.split(\"/\")[-1], len(gdat[parallax_stars]), \n",
    "          len(parallax_stars[0])/len(gdat))\n",
    "    if file_num == 0:\n",
    "        master_df = tmp_df.copy()\n",
    "        master_big = big_df.copy()\n",
    "    else:\n",
    "        master_df = master_df.append(tmp_df, ignore_index=True)\n",
    "        master_big = master_big.append(big_df, ignore_index=True)"
   ]
  },
  {
   "cell_type": "code",
   "execution_count": 7,
   "metadata": {},
   "outputs": [
    {
     "data": {
      "text/plain": [
       "69429905"
      ]
     },
     "execution_count": 7,
     "metadata": {},
     "output_type": "execute_result"
    }
   ],
   "source": [
    "master_df.to_hdf(\"parallax_objid_stars.h5\", \"d1\")\n",
    "len(master_df)"
   ]
  },
  {
   "cell_type": "code",
   "execution_count": 8,
   "metadata": {},
   "outputs": [
    {
     "data": {
      "text/plain": [
       "69429905"
      ]
     },
     "execution_count": 8,
     "metadata": {},
     "output_type": "execute_result"
    }
   ],
   "source": [
    "master_big.to_hdf(\"parallax_ps1_gaia_pm_plx.h5\", \"d1\")\n",
    "len(master_big)"
   ]
  },
  {
   "cell_type": "code",
   "execution_count": 3,
   "metadata": {},
   "outputs": [
    {
     "name": "stdout",
     "output_type": "stream",
     "text": [
      "0 PS1_gaia_60-result.fits.gz 28032340 0.6001550039072118\n",
      "1 PS1_gaia_90-result.fits.gz 1501310 0.6868937447012354\n",
      "2 PS1_gaia_neg20-result.fits.gz 81666001 0.7008476904869346\n",
      "3 PS1_gaia_10-result.fits.gz 44006063 0.6760611834034177\n",
      "4 PS1_gaia_70-result.fits.gz 15295632 0.5422109274649594\n",
      "5 PS1_gaia_80-result.fits.gz 5921974 0.6148619492849836\n",
      "6 PS1_gaia_neg30-result.fits.gz 17062738 0.7304604814297809\n",
      "7 PS1_gaia_20-result.fits.gz 50109536 0.6991476765367718\n",
      "8 PS1_gaia_neg0-result.fits.gz 43284921 0.6451233718541571\n",
      "9 PS1_gaia_50-result.fits.gz 32997450 0.6672538280074949\n",
      "10 PS1_gaia_neg10-result.fits.gz 61909382 0.6560533045716807\n",
      "11 PS1_gaia_40-result.fits.gz 41330748 0.7250282883972453\n",
      "12 PS1_gaia_30-result.fits.gz 47284192 0.7350715280269211\n"
     ]
    }
   ],
   "source": [
    "for file_num, gf in enumerate(gaia_files):\n",
    "    gdat = fits.getdata(gf)\n",
    "    pm_stars = np.where((gdat['pm']/gdat['pm_unc'] >= 9) ) # 5*1.8\n",
    "    tmp_df = pd.DataFrame(gdat['objid'][pm_stars], columns=['objid'])\n",
    "    big_df = tmp_df.copy()\n",
    "    big_df['pm_over_error'] = gdat['pm'][pm_stars]/gdat['pm_unc'][pm_stars]\n",
    "    big_df['parallax_over_error'] = gdat['parallax_over_error'][pm_stars]\n",
    "    \n",
    "    print(file_num, gf.split(\"/\")[-1], len(gdat[pm_stars]), \n",
    "          len(pm_stars[0])/len(gdat))\n",
    "    if file_num == 0:\n",
    "        master_df = tmp_df.copy()\n",
    "        master_big = big_df.copy()\n",
    "    else:\n",
    "        master_df = master_df.append(tmp_df, ignore_index=True)\n",
    "        master_big = master_big.append(big_df, ignore_index=True)"
   ]
  },
  {
   "cell_type": "code",
   "execution_count": 4,
   "metadata": {},
   "outputs": [
    {
     "data": {
      "text/plain": [
       "470402287"
      ]
     },
     "execution_count": 4,
     "metadata": {},
     "output_type": "execute_result"
    }
   ],
   "source": [
    "master_df.to_hdf(\"pm_objid_stars.h5\", \"d1\")\n",
    "len(master_df)"
   ]
  },
  {
   "cell_type": "code",
   "execution_count": 5,
   "metadata": {},
   "outputs": [
    {
     "data": {
      "text/plain": [
       "470402287"
      ]
     },
     "execution_count": 5,
     "metadata": {},
     "output_type": "execute_result"
    }
   ],
   "source": [
    "master_big.to_hdf(\"pm_ps1_mag_pm_plx.h5\", \"d1\")\n",
    "len(master_big)"
   ]
  }
 ],
 "metadata": {
  "kernelspec": {
   "display_name": "Python 3",
   "language": "python",
   "name": "python3"
  },
  "language_info": {
   "codemirror_mode": {
    "name": "ipython",
    "version": 3
   },
   "file_extension": ".py",
   "mimetype": "text/x-python",
   "name": "python",
   "nbconvert_exporter": "python",
   "pygments_lexer": "ipython3",
   "version": "3.7.1"
  }
 },
 "nbformat": 4,
 "nbformat_minor": 4
}
