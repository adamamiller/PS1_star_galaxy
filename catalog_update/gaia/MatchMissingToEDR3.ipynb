{
 "cells": [
  {
   "cell_type": "code",
   "execution_count": 1,
   "metadata": {},
   "outputs": [],
   "source": [
    "import pandas as pd\n",
    "import numpy as np\n",
    "import matplotlib.pyplot as plt\n",
    "\n",
    "from astropy.io import fits\n",
    "from astropy.table import Table\n",
    "import glob\n",
    "import time"
   ]
  },
  {
   "cell_type": "code",
   "execution_count": 2,
   "metadata": {},
   "outputs": [],
   "source": [
    "plx_df = pd.read_hdf('parallax_ps1_gaia_pm_plx.h5')\n",
    "plx_stars = np.where(plx_df.pm_over_error < 9)"
   ]
  },
  {
   "cell_type": "code",
   "execution_count": 70,
   "metadata": {},
   "outputs": [
    {
     "name": "stdout",
     "output_type": "stream",
     "text": [
      "../missing_0_adamamiller.fit 227 6.627413034439087\n",
      "../missing_1_adamamiller.fit 522 2.669977903366089\n",
      "../missing_33_adamamiller.fit 760 8.749786853790283\n",
      "../missing_3_adamamiller.fit 817 2.0258970260620117\n",
      "../missing_20_1_adamamiller.fit 1422 6.498478174209595\n",
      "../missing_36_adamamiller.fit 1755 7.971898794174194\n",
      "../missing_5_1_adamamiller.fit 2681 5.6740899085998535\n",
      "../missing_25_1_adamamiller.fit 3021 7.187233924865723\n",
      "../missing_15_1_adamamiller.fit 3358 5.732959985733032\n",
      "../missing_10_1_adamamiller.fit 4339 6.467685699462891\n",
      "../missing_4_adamamiller.fit 4356 1.990602731704712\n",
      "../missing_15_0_adamamiller.fit 4839 7.377546072006226\n",
      "../missing_10_0_adamamiller.fit 5013 4.948205947875977\n",
      "../missing_30_adamamiller.fit 5363 7.730467796325684\n",
      "../missing_2_adamamiller.fit 5795 2.476632833480835\n",
      "../missing_20_0_adamamiller.fit 6128 5.959709882736206\n",
      "../missing_5_0_adamamiller.fit 6310 5.394402980804443\n",
      "../missing_25_0_adamamiller.fit 6920 6.782533884048462\n"
     ]
    }
   ],
   "source": [
    "missing_files = glob.glob('../missing*miller.fit')\n",
    "plx_objid = np.empty(0).astype(np.int64)\n",
    "for mf in missing_files:\n",
    "    tstart = time.time()\n",
    "    tmp_tbl = fits.getdata(mf)\n",
    "    unique_objid = np.unique(tmp_tbl.objid)\n",
    "\n",
    "    missing_is_plx_star = np.isin(unique_objid, plx_df.iloc[plx_stars].objid.values)\n",
    "    \n",
    "    plx_objid = np.append(plx_objid, unique_objid[missing_is_plx_star])\n",
    "    tend = time.time()\n",
    "    print(mf, len(plx_objid), tend - tstart)"
   ]
  },
  {
   "cell_type": "code",
   "execution_count": 71,
   "metadata": {},
   "outputs": [],
   "source": [
    "new_plx_stars = pd.DataFrame(plx_objid, columns=['objid'])\n",
    "new_plx_stars.to_hdf('plx_stars_in_ps1_missing.h5', 'd1')"
   ]
  },
  {
   "cell_type": "code",
   "execution_count": 72,
   "metadata": {},
   "outputs": [
    {
     "data": {
      "text/plain": [
       "6920"
      ]
     },
     "execution_count": 72,
     "metadata": {},
     "output_type": "execute_result"
    }
   ],
   "source": [
    "len(plx_objid)"
   ]
  },
  {
   "cell_type": "code",
   "execution_count": 73,
   "metadata": {},
   "outputs": [
    {
     "data": {
      "text/plain": [
       "6920"
      ]
     },
     "execution_count": 73,
     "metadata": {},
     "output_type": "execute_result"
    }
   ],
   "source": [
    "len(np.unique(plx_objid))"
   ]
  },
  {
   "cell_type": "markdown",
   "metadata": {},
   "source": [
    "## Find the stars selected via proper motion"
   ]
  },
  {
   "cell_type": "code",
   "execution_count": 11,
   "metadata": {},
   "outputs": [],
   "source": [
    "pm_df = pd.read_hdf('pm_objid_stars.h5')"
   ]
  },
  {
   "cell_type": "code",
   "execution_count": 22,
   "metadata": {},
   "outputs": [
    {
     "data": {
      "text/plain": [
       "31662640"
      ]
     },
     "execution_count": 22,
     "metadata": {},
     "output_type": "execute_result"
    }
   ],
   "source": [
    "len(missing_is_pm_star)"
   ]
  },
  {
   "cell_type": "code",
   "execution_count": 26,
   "metadata": {},
   "outputs": [
    {
     "data": {
      "text/plain": [
       "428410"
      ]
     },
     "execution_count": 26,
     "metadata": {},
     "output_type": "execute_result"
    }
   ],
   "source": [
    "len(np.where(missing_is_pm_star == 1)[0])"
   ]
  },
  {
   "cell_type": "code",
   "execution_count": 27,
   "metadata": {},
   "outputs": [
    {
     "data": {
      "text/plain": [
       "12772774"
      ]
     },
     "execution_count": 27,
     "metadata": {},
     "output_type": "execute_result"
    }
   ],
   "source": [
    "len(tmp_tbl)"
   ]
  },
  {
   "cell_type": "code",
   "execution_count": 29,
   "metadata": {},
   "outputs": [
    {
     "data": {
      "text/plain": [
       "10942237"
      ]
     },
     "execution_count": 29,
     "metadata": {},
     "output_type": "execute_result"
    }
   ],
   "source": [
    "len(np.unique(tmp_tbl.objid))"
   ]
  },
  {
   "cell_type": "code",
   "execution_count": 31,
   "metadata": {},
   "outputs": [
    {
     "data": {
      "text/plain": [
       "FITS_rec([(150333149908634462, 150333149908634462, 3, 0, 0, 0),\n",
       "          (150343150089180587, 150343150089180587, 3, 0, 0, 1),\n",
       "          (150343150089180587, 150343150089180587, 3, 1, 0, 1), ...,\n",
       "          (180933334077476280, 180933334077476280, 7, 0, 0, 0),\n",
       "          (180933334228669465, 180933334228669465, 3, 0, 0, 0),\n",
       "          (180943334238613707, 180943334238613707, 3, 0, 0, 0)],\n",
       "         dtype=(numpy.record, [('strid', '>i8'), ('objid', '>i8'), ('nDetections', '>i2'), ('primaryDetection', 'u1'), ('stackDet', '>i4'), ('forceDet', '>i4')]))"
      ]
     },
     "execution_count": 31,
     "metadata": {},
     "output_type": "execute_result"
    }
   ],
   "source": [
    "tmp_tbl"
   ]
  },
  {
   "cell_type": "code",
   "execution_count": 32,
   "metadata": {},
   "outputs": [
    {
     "name": "stdout",
     "output_type": "stream",
     "text": [
      "../missing_0_adamamiller.fit 347853 347853 70.50142478942871\n",
      "../missing_1_adamamiller.fit 597099 597099 81.0002806186676\n",
      "../missing_33_adamamiller.fit 2099526 2099526 89.86220407485962\n",
      "../missing_3_adamamiller.fit 2152447 2152447 79.82836198806763\n",
      "../missing_20_1_adamamiller.fit 3937950 3937950 89.26474189758301\n",
      "../missing_36_adamamiller.fit 6095152 6095152 85.94800782203674\n",
      "../missing_5_1_adamamiller.fit 6507839 6507839 84.03519415855408\n",
      "../missing_25_1_adamamiller.fit 7698989 7698989 92.32728672027588\n",
      "../missing_15_1_adamamiller.fit 9791146 9791146 92.18693709373474\n",
      "../missing_10_1_adamamiller.fit 11883131 11883131 89.28665709495544\n",
      "../missing_4_adamamiller.fit 11924926 11924926 79.2079348564148\n",
      "../missing_15_0_adamamiller.fit 13883848 13883848 2410.270602941513\n",
      "../missing_10_0_adamamiller.fit 14418748 14418748 85.39474391937256\n",
      "../missing_30_adamamiller.fit 15189833 15189833 87.42225193977356\n",
      "../missing_2_adamamiller.fit 15340932 15340932 83.33330488204956\n",
      "../missing_20_0_adamamiller.fit 17345341 17345341 84.63819694519043\n",
      "../missing_5_0_adamamiller.fit 17579475 17579475 84.66708087921143\n",
      "../missing_25_0_adamamiller.fit 18651666 18651666 88.40114092826843\n"
     ]
    }
   ],
   "source": [
    "pm_objid = np.empty(0).astype(np.int64)\n",
    "for mf in missing_files:\n",
    "    tstart = time.time()\n",
    "    tmp_tbl = fits.getdata(mf)\n",
    "    unique_objid = np.unique(tmp_tbl.objid)\n",
    "    missing_is_pm_star = np.isin(unique_objid, pm_df.objid.values)\n",
    "    \n",
    "    pm_objid = np.append(pm_objid, unique_objid[missing_is_pm_star])\n",
    "    tend = time.time()\n",
    "    print(mf, len(pm_objid), len(np.unique(pm_objid)), tend - tstart)"
   ]
  },
  {
   "cell_type": "code",
   "execution_count": 33,
   "metadata": {},
   "outputs": [
    {
     "data": {
      "text/plain": [
       "18651666"
      ]
     },
     "execution_count": 33,
     "metadata": {},
     "output_type": "execute_result"
    }
   ],
   "source": [
    "len(np.unique(pm_objid))"
   ]
  },
  {
   "cell_type": "code",
   "execution_count": 34,
   "metadata": {},
   "outputs": [],
   "source": [
    "new_pm_stars = pd.DataFrame(pm_objid, columns=['objid'])\n",
    "new_pm_stars.to_hdf('pm_stars_in_ps1_missing.h5', 'd1')"
   ]
  },
  {
   "cell_type": "code",
   "execution_count": 81,
   "metadata": {},
   "outputs": [],
   "source": [
    "# add unique command because there are a few repeats\n",
    "star_objid = np.unique(np.append(pm_objid, plx_objid)) \n",
    "new_stars = pd.DataFrame(star_objid, columns=['objid'])\n",
    "new_stars.to_hdf('stars_in_ps1_missing.h5', 'd1')"
   ]
  },
  {
   "cell_type": "code",
   "execution_count": 14,
   "metadata": {},
   "outputs": [
    {
     "name": "stdout",
     "output_type": "stream",
     "text": [
      "0\n",
      "18658572\n"
     ]
    }
   ],
   "source": [
    "gaia_in_ps1 = pd.read_hdf('stars_in_ps1_missing.h5')\n",
    "star_objid = gaia_in_ps1.objid.values\n",
    "\n",
    "print(len(star_objid) - len(np.unique(star_objid)))\n",
    "print(len(np.unique(star_objid)))"
   ]
  },
  {
   "cell_type": "markdown",
   "metadata": {},
   "source": [
    "### Read in RF classifications and replace Gaia stars with score = 1"
   ]
  },
  {
   "cell_type": "code",
   "execution_count": 17,
   "metadata": {},
   "outputs": [
    {
     "name": "stdout",
     "output_type": "stream",
     "text": [
      "../update_12.csv 18403590 254982 247716 22.005656242370605\n",
      "../update_13.csv 18071275 332315 320059 20.963937044143677\n",
      "../update_11.csv 17776859 294416 288940 21.452131748199463\n",
      "../update_10.csv 17145689 631170 627165 21.512128591537476\n",
      "../update_14.csv 16649040 496649 490166 27.220184087753296\n",
      "../update_15.csv 16190751 458289 448386 25.2616069316864\n",
      "../update_17.csv 15731036 459715 436965 21.85850191116333\n",
      "../update_16.csv 14878765 852271 843700 22.153571844100952\n",
      "../update_4.csv 13883655 995110 991752 22.852558135986328\n",
      "../update_5.csv 13154252 729403 723355 25.13189697265625\n",
      "../update_7.csv 12294765 859487 856210 24.658520936965942\n",
      "../update_6.csv 11358650 936115 933271 24.727519989013672\n",
      "../update_2.csv 10654533 704117 699911 25.42244601249695\n",
      "../update_3.csv 9692976 961557 957175 21.370465755462646\n",
      "../update_1.csv 8569539 1123437 1120544 19.574735164642334\n",
      "../update_0.csv 8085193 484346 473226 19.868874073028564\n",
      "../update_8.csv 7581002 504191 497556 20.13108468055725\n",
      "../update_9.csv 7231069 349933 346491 19.847118139266968\n"
     ]
    }
   ],
   "source": [
    "rf_files = glob.glob('../update_*.csv')\n",
    "N_gaia_and_ps1 = 0\n",
    "for rff in rf_files:\n",
    "    tstart = time.time()\n",
    "    rf_df = pd.read_csv(rff)\n",
    "    already_one = len(np.where(rf_df.score == 1)[0])\n",
    "    gaia_star = np.isin(rf_df.objid.values, star_objid)\n",
    "    gaia_and_ps1 = len(np.where(gaia_star == True)[0])\n",
    "    N_gaia_and_ps1 += gaia_and_ps1\n",
    "    update_rf_score = (gaia_star & (rf_df.score != 1))\n",
    "    \n",
    "    rf_df.loc[update_rf_score, \"score\"] = 1\n",
    "    now_one = len(np.where(rf_df.score == 1)[0])\n",
    "    rf_df.to_csv(rff.replace('update', 'gaia_update'), index=False)\n",
    "    star_objid = star_objid[~np.isin(star_objid, rf_df.objid.values[gaia_star])]\n",
    "    tend = time.time()\n",
    "    print(rff, len(star_objid), gaia_and_ps1, \n",
    "          len(np.where(update_rf_score == 1)[0]), \n",
    "          tend-tstart)"
   ]
  },
  {
   "cell_type": "code",
   "execution_count": 18,
   "metadata": {},
   "outputs": [
    {
     "data": {
      "text/plain": [
       "11427503"
      ]
     },
     "execution_count": 18,
     "metadata": {},
     "output_type": "execute_result"
    }
   ],
   "source": [
    "N_gaia_and_ps1"
   ]
  },
  {
   "cell_type": "code",
   "execution_count": 94,
   "metadata": {},
   "outputs": [
    {
     "data": {
      "text/plain": [
       "7231069"
      ]
     },
     "execution_count": 94,
     "metadata": {},
     "output_type": "execute_result"
    }
   ],
   "source": [
    "len(star_objid)"
   ]
  },
  {
   "cell_type": "code",
   "execution_count": 95,
   "metadata": {},
   "outputs": [],
   "source": [
    "gaia_only = pd.DataFrame(star_objid, columns=['objid'])"
   ]
  },
  {
   "cell_type": "code",
   "execution_count": 96,
   "metadata": {},
   "outputs": [],
   "source": [
    "gaia_only['score'] = np.ones(len(star_objid)).astype(float)"
   ]
  },
  {
   "cell_type": "code",
   "execution_count": 97,
   "metadata": {},
   "outputs": [
    {
     "data": {
      "text/html": [
       "<div>\n",
       "<style scoped>\n",
       "    .dataframe tbody tr th:only-of-type {\n",
       "        vertical-align: middle;\n",
       "    }\n",
       "\n",
       "    .dataframe tbody tr th {\n",
       "        vertical-align: top;\n",
       "    }\n",
       "\n",
       "    .dataframe thead th {\n",
       "        text-align: right;\n",
       "    }\n",
       "</style>\n",
       "<table border=\"1\" class=\"dataframe\">\n",
       "  <thead>\n",
       "    <tr style=\"text-align: right;\">\n",
       "      <th></th>\n",
       "      <th>objid</th>\n",
       "      <th>score</th>\n",
       "    </tr>\n",
       "  </thead>\n",
       "  <tbody>\n",
       "    <tr>\n",
       "      <th>0</th>\n",
       "      <td>66852148902550138</td>\n",
       "      <td>1.0</td>\n",
       "    </tr>\n",
       "    <tr>\n",
       "      <th>1</th>\n",
       "      <td>66852148907643713</td>\n",
       "      <td>1.0</td>\n",
       "    </tr>\n",
       "    <tr>\n",
       "      <th>2</th>\n",
       "      <td>66872148781320310</td>\n",
       "      <td>1.0</td>\n",
       "    </tr>\n",
       "    <tr>\n",
       "      <th>3</th>\n",
       "      <td>66882149096231177</td>\n",
       "      <td>1.0</td>\n",
       "    </tr>\n",
       "    <tr>\n",
       "      <th>4</th>\n",
       "      <td>66892148811184766</td>\n",
       "      <td>1.0</td>\n",
       "    </tr>\n",
       "  </tbody>\n",
       "</table>\n",
       "</div>"
      ],
      "text/plain": [
       "               objid  score\n",
       "0  66852148902550138    1.0\n",
       "1  66852148907643713    1.0\n",
       "2  66872148781320310    1.0\n",
       "3  66882149096231177    1.0\n",
       "4  66892148811184766    1.0"
      ]
     },
     "execution_count": 97,
     "metadata": {},
     "output_type": "execute_result"
    }
   ],
   "source": [
    "gaia_only.head()"
   ]
  },
  {
   "cell_type": "code",
   "execution_count": 98,
   "metadata": {},
   "outputs": [],
   "source": [
    "gaia_only.to_csv('../gaia_only_update.csv', index=False)"
   ]
  },
  {
   "cell_type": "code",
   "execution_count": 99,
   "metadata": {},
   "outputs": [
    {
     "data": {
      "text/plain": [
       "7231069"
      ]
     },
     "execution_count": 99,
     "metadata": {},
     "output_type": "execute_result"
    }
   ],
   "source": [
    "len(gaia_only)"
   ]
  },
  {
   "cell_type": "code",
   "execution_count": 100,
   "metadata": {},
   "outputs": [
    {
     "data": {
      "text/plain": [
       "7231069"
      ]
     },
     "execution_count": 100,
     "metadata": {},
     "output_type": "execute_result"
    }
   ],
   "source": [
    "len(np.unique(gaia_only.objid))"
   ]
  }
 ],
 "metadata": {
  "kernelspec": {
   "display_name": "Python 3",
   "language": "python",
   "name": "python3"
  },
  "language_info": {
   "codemirror_mode": {
    "name": "ipython",
    "version": 3
   },
   "file_extension": ".py",
   "mimetype": "text/x-python",
   "name": "python",
   "nbconvert_exporter": "python",
   "pygments_lexer": "ipython3",
   "version": "3.6.8"
  }
 },
 "nbformat": 4,
 "nbformat_minor": 4
}
