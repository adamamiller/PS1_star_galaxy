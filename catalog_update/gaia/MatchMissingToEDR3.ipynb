{
 "cells": [
  {
   "cell_type": "code",
   "execution_count": 1,
   "metadata": {},
   "outputs": [],
   "source": [
    "import pandas as pd\n",
    "import numpy as np\n",
    "import matplotlib.pyplot as plt\n",
    "\n",
    "from astropy.io import fits\n",
    "from astropy.table import Table\n",
    "import glob\n",
    "import time"
   ]
  },
  {
   "cell_type": "code",
   "execution_count": 2,
   "metadata": {},
   "outputs": [],
   "source": [
    "# missing = pd.read_hdf('missing_scores.h5')"
   ]
  },
  {
   "cell_type": "code",
   "execution_count": 3,
   "metadata": {},
   "outputs": [],
   "source": [
    "# missing.set_index('objid', inplace=True)"
   ]
  },
  {
   "cell_type": "code",
   "execution_count": 2,
   "metadata": {},
   "outputs": [],
   "source": [
    "plx_df = pd.read_hdf('parallax_ps1_gaia_pm_plx.h5')\n",
    "plx_stars = np.where(plx_df.pm_over_error < 9)"
   ]
  },
  {
   "cell_type": "code",
   "execution_count": 3,
   "metadata": {},
   "outputs": [
    {
     "name": "stdout",
     "output_type": "stream",
     "text": [
      "../missing_0_adamamiller.fit 341 1.9293696880340576\n",
      "../missing_1_adamamiller.fit 733 1.9723451137542725\n",
      "../missing_33_adamamiller.fit 1150 7.713251829147339\n",
      "../missing_3_adamamiller.fit 1231 1.4695489406585693\n",
      "../missing_20_1_adamamiller.fit 2263 4.929059267044067\n",
      "../missing_36_adamamiller.fit 2747 5.581412076950073\n",
      "../missing_5_1_adamamiller.fit 4531 4.190327882766724\n",
      "../missing_25_1_adamamiller.fit 5170 4.980125904083252\n",
      "../missing_15_1_adamamiller.fit 5686 4.115974187850952\n",
      "../missing_10_1_adamamiller.fit 6979 4.12535285949707\n",
      "../missing_4_adamamiller.fit 6997 1.601639986038208\n",
      "../missing_15_0_adamamiller.fit 7744 5.090753078460693\n",
      "../missing_10_0_adamamiller.fit 7982 3.728666067123413\n",
      "../missing_30_adamamiller.fit 8619 5.88946008682251\n",
      "../missing_2_adamamiller.fit 9390 1.8842689990997314\n",
      "../missing_20_0_adamamiller.fit 9948 4.357120990753174\n",
      "../missing_5_0_adamamiller.fit 10200 3.6611342430114746\n",
      "../missing_25_0_adamamiller.fit 11319 5.33674430847168\n"
     ]
    }
   ],
   "source": [
    "missing_files = glob.glob('../missing*miller.fit')\n",
    "plx_objid = np.empty(0).astype(np.int64)\n",
    "for mf in missing_files:\n",
    "    tstart = time.time()\n",
    "    tmp_tbl = fits.getdata(mf)\n",
    "    missing_is_plx_star = np.isin(tmp_tbl.objid, plx_df.iloc[plx_stars].objid.values)\n",
    "    \n",
    "    plx_objid = np.append(plx_objid, tmp_tbl.objid[missing_is_plx_star])\n",
    "    tend = time.time()\n",
    "    print(mf, len(plx_objid), tend - tstart)"
   ]
  },
  {
   "cell_type": "code",
   "execution_count": 4,
   "metadata": {},
   "outputs": [
    {
     "data": {
      "text/plain": [
       "array([151053144075784963, 152703159200180189, 152703159200180189, ...,\n",
       "        99372771984543993,  99502777773549037,  99502777773549037])"
      ]
     },
     "execution_count": 4,
     "metadata": {},
     "output_type": "execute_result"
    }
   ],
   "source": [
    "plx_objid"
   ]
  },
  {
   "cell_type": "code",
   "execution_count": 5,
   "metadata": {},
   "outputs": [],
   "source": [
    "new_plx_stars = pd.DataFrame(plx_objid, columns=['objid'])\n",
    "new_plx_stars.to_hdf('plx_stars_in_ps1_missing.h5', 'd1')"
   ]
  },
  {
   "cell_type": "markdown",
   "metadata": {},
   "source": [
    "## Find the stars selected via proper motion"
   ]
  },
  {
   "cell_type": "code",
   "execution_count": 6,
   "metadata": {},
   "outputs": [],
   "source": [
    "pm_df = pd.read_hdf('pm_objid_stars.h5')"
   ]
  },
  {
   "cell_type": "code",
   "execution_count": 7,
   "metadata": {},
   "outputs": [
    {
     "name": "stdout",
     "output_type": "stream",
     "text": [
      "../missing_0_adamamiller.fit 428410 69.3012490272522\n",
      "../missing_1_adamamiller.fit 729286 77.38436603546143\n",
      "../missing_33_adamamiller.fit 2551081 80.14119505882263\n",
      "../missing_3_adamamiller.fit 2620458 75.39411520957947\n",
      "../missing_20_1_adamamiller.fit 4741414 87.74567699432373\n",
      "../missing_36_adamamiller.fit 7338383 87.96328401565552\n",
      "../missing_5_1_adamamiller.fit 7892732 85.62994003295898\n",
      "../missing_25_1_adamamiller.fit 9335424 80.76299905776978\n",
      "../missing_15_1_adamamiller.fit 11766650 80.5249719619751\n",
      "../missing_10_1_adamamiller.fit 14209488 86.02674198150635\n",
      "../missing_4_adamamiller.fit 14266583 70.81423997879028\n",
      "../missing_15_0_adamamiller.fit 16561224 76.35738325119019\n",
      "../missing_10_0_adamamiller.fit 17220628 79.05603790283203\n",
      "../missing_30_adamamiller.fit 18202849 85.74463605880737\n",
      "../missing_2_adamamiller.fit 18403109 65.12621307373047\n",
      "../missing_20_0_adamamiller.fit 20736670 79.89972186088562\n",
      "../missing_5_0_adamamiller.fit 21038631 91.3676369190216\n",
      "../missing_25_0_adamamiller.fit 22371763 86.14721298217773\n"
     ]
    }
   ],
   "source": [
    "pm_objid = np.empty(0).astype(np.int64)\n",
    "for mf in missing_files:\n",
    "    tstart = time.time()\n",
    "    tmp_tbl = fits.getdata(mf)\n",
    "    missing_is_pm_star = np.isin(tmp_tbl.objid, pm_df.objid.values)\n",
    "    \n",
    "    pm_objid = np.append(pm_objid, tmp_tbl.objid[missing_is_pm_star])\n",
    "    tend = time.time()\n",
    "    print(mf, len(pm_objid), tend - tstart)"
   ]
  },
  {
   "cell_type": "code",
   "execution_count": 8,
   "metadata": {},
   "outputs": [],
   "source": [
    "new_pm_stars = pd.DataFrame(pm_objid, columns=['objid'])\n",
    "new_pm_stars.to_hdf('pm_stars_in_ps1_missing.h5', 'd1')"
   ]
  },
  {
   "cell_type": "code",
   "execution_count": 17,
   "metadata": {},
   "outputs": [],
   "source": [
    "star_objid = np.append(pm_objid, plx_objid)\n",
    "new_stars = pd.DataFrame(star_objid, columns=['objid'])\n",
    "new_stars.to_hdf('stars_in_ps1_missing.h5', 'd1')"
   ]
  },
  {
   "cell_type": "code",
   "execution_count": 18,
   "metadata": {},
   "outputs": [
    {
     "data": {
      "text/plain": [
       "22383082"
      ]
     },
     "execution_count": 18,
     "metadata": {},
     "output_type": "execute_result"
    }
   ],
   "source": [
    "len(star_objid)"
   ]
  },
  {
   "cell_type": "markdown",
   "metadata": {},
   "source": [
    "### Read in RF classifications and replace Gaia stars with score = 1"
   ]
  },
  {
   "cell_type": "code",
   "execution_count": 10,
   "metadata": {},
   "outputs": [
    {
     "name": "stderr",
     "output_type": "stream",
     "text": [
      "/Users/adamamiller/miniconda3/envs/emcee3/lib/python3.7/site-packages/pandas/core/generic.py:5159: SettingWithCopyWarning: \n",
      "A value is trying to be set on a copy of a slice from a DataFrame.\n",
      "Try using .loc[row_indexer,col_indexer] = value instead\n",
      "\n",
      "See the caveats in the documentation: https://pandas.pydata.org/pandas-docs/stable/user_guide/indexing.html#returning-a-view-versus-a-copy\n",
      "  self[name] = value\n"
     ]
    },
    {
     "name": "stdout",
     "output_type": "stream",
     "text": [
      "../update_12.csv 22011414 18.837344884872437\n",
      "../update_13.csv 21516959 18.880218982696533\n",
      "../update_11.csv 21088741 18.90144395828247\n",
      "../update_10.csv 20289499 19.158812046051025\n",
      "../update_14.csv 19625407 18.971892833709717\n",
      "../update_15.csv 18984128 18.819652795791626\n",
      "../update_17.csv 18237431 20.251355171203613\n",
      "../update_16.csv 17130853 18.304237127304077\n",
      "../update_4.csv 15907419 18.17227602005005\n",
      "../update_5.csv 14958417 17.44241213798523\n",
      "../update_7.csv 13884378 17.148157119750977\n",
      "../update_6.csv 12724183 17.26037096977234\n",
      "../update_2.csv 11826881 16.77374005317688\n",
      "../update_3.csv 10625402 17.084017992019653\n",
      "../update_1.csv 9226882 16.99544405937195\n",
      "../update_0.csv 8537651 16.533631801605225\n",
      "../update_8.csv 7865228 16.42284893989563\n",
      "../update_9.csv 7397493 16.004412174224854\n"
     ]
    }
   ],
   "source": [
    "rf_files = glob.glob('../update_*.csv')\n",
    "for rff in rf_files:\n",
    "    tstart = time.time()\n",
    "    rf_df = pd.read_csv(rff)\n",
    "    rf_is_gaia_star = np.isin(rf_df.objid.values, star_objid)\n",
    "    rf_df.iloc[rf_is_gaia_star].score = 1\n",
    "    rf_df.to_csv(rff.replace('update', 'gaia_update'), index=False)\n",
    "    star_objid = star_objid[~np.isin(star_objid, rf_df.iloc[rf_is_gaia_star].objid.values)]\n",
    "    tend = time.time()\n",
    "    print(rff, len(star_objid), tend-tstart)"
   ]
  },
  {
   "cell_type": "code",
   "execution_count": 11,
   "metadata": {},
   "outputs": [
    {
     "data": {
      "text/plain": [
       "7397493"
      ]
     },
     "execution_count": 11,
     "metadata": {},
     "output_type": "execute_result"
    }
   ],
   "source": [
    "len(star_objid)"
   ]
  },
  {
   "cell_type": "code",
   "execution_count": 13,
   "metadata": {},
   "outputs": [],
   "source": [
    "gaia_only = pd.DataFrame(star_objid, columns=['objid'])"
   ]
  },
  {
   "cell_type": "code",
   "execution_count": 14,
   "metadata": {},
   "outputs": [],
   "source": [
    "gaia_only['score'] = np.ones(len(star_objid)).astype(float)"
   ]
  },
  {
   "cell_type": "code",
   "execution_count": 15,
   "metadata": {},
   "outputs": [
    {
     "data": {
      "text/html": [
       "<div>\n",
       "<style scoped>\n",
       "    .dataframe tbody tr th:only-of-type {\n",
       "        vertical-align: middle;\n",
       "    }\n",
       "\n",
       "    .dataframe tbody tr th {\n",
       "        vertical-align: top;\n",
       "    }\n",
       "\n",
       "    .dataframe thead th {\n",
       "        text-align: right;\n",
       "    }\n",
       "</style>\n",
       "<table border=\"1\" class=\"dataframe\">\n",
       "  <thead>\n",
       "    <tr style=\"text-align: right;\">\n",
       "      <th></th>\n",
       "      <th>objid</th>\n",
       "      <th>score</th>\n",
       "    </tr>\n",
       "  </thead>\n",
       "  <tbody>\n",
       "    <tr>\n",
       "      <th>0</th>\n",
       "      <td>150503148357876729</td>\n",
       "      <td>1.0</td>\n",
       "    </tr>\n",
       "    <tr>\n",
       "      <th>1</th>\n",
       "      <td>150433149582865459</td>\n",
       "      <td>1.0</td>\n",
       "    </tr>\n",
       "    <tr>\n",
       "      <th>2</th>\n",
       "      <td>150373149437948650</td>\n",
       "      <td>1.0</td>\n",
       "    </tr>\n",
       "    <tr>\n",
       "      <th>3</th>\n",
       "      <td>150373149741710201</td>\n",
       "      <td>1.0</td>\n",
       "    </tr>\n",
       "    <tr>\n",
       "      <th>4</th>\n",
       "      <td>150373150946136004</td>\n",
       "      <td>1.0</td>\n",
       "    </tr>\n",
       "  </tbody>\n",
       "</table>\n",
       "</div>"
      ],
      "text/plain": [
       "                objid  score\n",
       "0  150503148357876729    1.0\n",
       "1  150433149582865459    1.0\n",
       "2  150373149437948650    1.0\n",
       "3  150373149741710201    1.0\n",
       "4  150373150946136004    1.0"
      ]
     },
     "execution_count": 15,
     "metadata": {},
     "output_type": "execute_result"
    }
   ],
   "source": [
    "gaia_only.head()"
   ]
  },
  {
   "cell_type": "code",
   "execution_count": 16,
   "metadata": {},
   "outputs": [],
   "source": [
    "gaia_only.to_csv('../gaia_only_update.csv', index=False)"
   ]
  }
 ],
 "metadata": {
  "kernelspec": {
   "display_name": "Python 3",
   "language": "python",
   "name": "python3"
  },
  "language_info": {
   "codemirror_mode": {
    "name": "ipython",
    "version": 3
   },
   "file_extension": ".py",
   "mimetype": "text/x-python",
   "name": "python",
   "nbconvert_exporter": "python",
   "pygments_lexer": "ipython3",
   "version": "3.7.1"
  }
 },
 "nbformat": 4,
 "nbformat_minor": 4
}
